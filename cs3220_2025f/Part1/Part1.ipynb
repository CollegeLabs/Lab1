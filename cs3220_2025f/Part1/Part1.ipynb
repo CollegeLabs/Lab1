{
 "cells": [
  {
   "cell_type": "code",
   "execution_count": 25,
   "id": "e6dd1f09",
   "metadata": {},
   "outputs": [],
   "source": [
    "import pandas as pd\n",
    "import numpy as np\n",
    "import networkx as nx\n",
    "from pyvis.network import Network\n",
    "\n",
    "pd.set_option('display.max_rows',None)\n",
    "pd.set_option('display.max_columns',None)\n",
    "pd.set_option('display.width',100)\n",
    "pd.set_option(\"display.max_colwidth\", 135)"
   ]
  },
  {
   "cell_type": "code",
   "execution_count": 26,
   "id": "08e20a12",
   "metadata": {},
   "outputs": [
    {
     "data": {
      "text/html": [
       "<div>\n",
       "<style scoped>\n",
       "    .dataframe tbody tr th:only-of-type {\n",
       "        vertical-align: middle;\n",
       "    }\n",
       "\n",
       "    .dataframe tbody tr th {\n",
       "        vertical-align: top;\n",
       "    }\n",
       "\n",
       "    .dataframe thead th {\n",
       "        text-align: right;\n",
       "    }\n",
       "</style>\n",
       "<table border=\"1\" class=\"dataframe\">\n",
       "  <thead>\n",
       "    <tr style=\"text-align: right;\">\n",
       "      <th></th>\n",
       "      <th>name</th>\n",
       "      <th>year</th>\n",
       "      <th>battle_number</th>\n",
       "      <th>attacker_king</th>\n",
       "      <th>defender_king</th>\n",
       "      <th>attacker_1</th>\n",
       "      <th>attacker_2</th>\n",
       "      <th>attacker_3</th>\n",
       "      <th>attacker_4</th>\n",
       "      <th>defender_1</th>\n",
       "      <th>defender_2</th>\n",
       "      <th>defender_3</th>\n",
       "      <th>defender_4</th>\n",
       "      <th>attacker_outcome</th>\n",
       "      <th>battle_type</th>\n",
       "      <th>major_death</th>\n",
       "      <th>major_capture</th>\n",
       "      <th>attacker_size</th>\n",
       "      <th>defender_size</th>\n",
       "      <th>attacker_commander</th>\n",
       "      <th>defender_commander</th>\n",
       "      <th>summer</th>\n",
       "      <th>location</th>\n",
       "      <th>region</th>\n",
       "      <th>note</th>\n",
       "    </tr>\n",
       "  </thead>\n",
       "  <tbody>\n",
       "    <tr>\n",
       "      <th>0</th>\n",
       "      <td>Battle of the Golden Tooth</td>\n",
       "      <td>298</td>\n",
       "      <td>1</td>\n",
       "      <td>Joffrey/Tommen Baratheon</td>\n",
       "      <td>Robb Stark</td>\n",
       "      <td>Lannister</td>\n",
       "      <td>NaN</td>\n",
       "      <td>NaN</td>\n",
       "      <td>NaN</td>\n",
       "      <td>Tully</td>\n",
       "      <td>NaN</td>\n",
       "      <td>NaN</td>\n",
       "      <td>NaN</td>\n",
       "      <td>win</td>\n",
       "      <td>pitched battle</td>\n",
       "      <td>1.0</td>\n",
       "      <td>0.0</td>\n",
       "      <td>15000.0</td>\n",
       "      <td>4000.0</td>\n",
       "      <td>Jaime Lannister</td>\n",
       "      <td>Clement Piper, Vance</td>\n",
       "      <td>1.0</td>\n",
       "      <td>Golden Tooth</td>\n",
       "      <td>The Westerlands</td>\n",
       "      <td>NaN</td>\n",
       "    </tr>\n",
       "    <tr>\n",
       "      <th>1</th>\n",
       "      <td>Battle at the Mummer's Ford</td>\n",
       "      <td>298</td>\n",
       "      <td>2</td>\n",
       "      <td>Joffrey/Tommen Baratheon</td>\n",
       "      <td>Robb Stark</td>\n",
       "      <td>Lannister</td>\n",
       "      <td>NaN</td>\n",
       "      <td>NaN</td>\n",
       "      <td>NaN</td>\n",
       "      <td>Baratheon</td>\n",
       "      <td>NaN</td>\n",
       "      <td>NaN</td>\n",
       "      <td>NaN</td>\n",
       "      <td>win</td>\n",
       "      <td>ambush</td>\n",
       "      <td>1.0</td>\n",
       "      <td>0.0</td>\n",
       "      <td>NaN</td>\n",
       "      <td>120.0</td>\n",
       "      <td>Gregor Clegane</td>\n",
       "      <td>Beric Dondarrion</td>\n",
       "      <td>1.0</td>\n",
       "      <td>Mummer's Ford</td>\n",
       "      <td>The Riverlands</td>\n",
       "      <td>NaN</td>\n",
       "    </tr>\n",
       "    <tr>\n",
       "      <th>2</th>\n",
       "      <td>Battle of Riverrun</td>\n",
       "      <td>298</td>\n",
       "      <td>3</td>\n",
       "      <td>Joffrey/Tommen Baratheon</td>\n",
       "      <td>Robb Stark</td>\n",
       "      <td>Lannister</td>\n",
       "      <td>NaN</td>\n",
       "      <td>NaN</td>\n",
       "      <td>NaN</td>\n",
       "      <td>Tully</td>\n",
       "      <td>NaN</td>\n",
       "      <td>NaN</td>\n",
       "      <td>NaN</td>\n",
       "      <td>win</td>\n",
       "      <td>pitched battle</td>\n",
       "      <td>0.0</td>\n",
       "      <td>1.0</td>\n",
       "      <td>15000.0</td>\n",
       "      <td>10000.0</td>\n",
       "      <td>Jaime Lannister, Andros Brax</td>\n",
       "      <td>Edmure Tully, Tytos Blackwood</td>\n",
       "      <td>1.0</td>\n",
       "      <td>Riverrun</td>\n",
       "      <td>The Riverlands</td>\n",
       "      <td>NaN</td>\n",
       "    </tr>\n",
       "    <tr>\n",
       "      <th>3</th>\n",
       "      <td>Battle of the Green Fork</td>\n",
       "      <td>298</td>\n",
       "      <td>4</td>\n",
       "      <td>Robb Stark</td>\n",
       "      <td>Joffrey/Tommen Baratheon</td>\n",
       "      <td>Stark</td>\n",
       "      <td>NaN</td>\n",
       "      <td>NaN</td>\n",
       "      <td>NaN</td>\n",
       "      <td>Lannister</td>\n",
       "      <td>NaN</td>\n",
       "      <td>NaN</td>\n",
       "      <td>NaN</td>\n",
       "      <td>loss</td>\n",
       "      <td>pitched battle</td>\n",
       "      <td>1.0</td>\n",
       "      <td>1.0</td>\n",
       "      <td>18000.0</td>\n",
       "      <td>20000.0</td>\n",
       "      <td>Roose Bolton, Wylis Manderly, Medger Cerwyn, Harrion Karstark, Halys Hornwood</td>\n",
       "      <td>Tywin Lannister, Gregor Clegane, Kevan Lannister, Addam Marbrand</td>\n",
       "      <td>1.0</td>\n",
       "      <td>Green Fork</td>\n",
       "      <td>The Riverlands</td>\n",
       "      <td>NaN</td>\n",
       "    </tr>\n",
       "    <tr>\n",
       "      <th>4</th>\n",
       "      <td>Battle of the Whispering Wood</td>\n",
       "      <td>298</td>\n",
       "      <td>5</td>\n",
       "      <td>Robb Stark</td>\n",
       "      <td>Joffrey/Tommen Baratheon</td>\n",
       "      <td>Stark</td>\n",
       "      <td>Tully</td>\n",
       "      <td>NaN</td>\n",
       "      <td>NaN</td>\n",
       "      <td>Lannister</td>\n",
       "      <td>NaN</td>\n",
       "      <td>NaN</td>\n",
       "      <td>NaN</td>\n",
       "      <td>win</td>\n",
       "      <td>ambush</td>\n",
       "      <td>1.0</td>\n",
       "      <td>1.0</td>\n",
       "      <td>1875.0</td>\n",
       "      <td>6000.0</td>\n",
       "      <td>Robb Stark, Brynden Tully</td>\n",
       "      <td>Jaime Lannister</td>\n",
       "      <td>1.0</td>\n",
       "      <td>Whispering Wood</td>\n",
       "      <td>The Riverlands</td>\n",
       "      <td>NaN</td>\n",
       "    </tr>\n",
       "  </tbody>\n",
       "</table>\n",
       "</div>"
      ],
      "text/plain": [
       "                            name  year  battle_number             attacker_king  \\\n",
       "0     Battle of the Golden Tooth   298              1  Joffrey/Tommen Baratheon   \n",
       "1    Battle at the Mummer's Ford   298              2  Joffrey/Tommen Baratheon   \n",
       "2             Battle of Riverrun   298              3  Joffrey/Tommen Baratheon   \n",
       "3       Battle of the Green Fork   298              4                Robb Stark   \n",
       "4  Battle of the Whispering Wood   298              5                Robb Stark   \n",
       "\n",
       "              defender_king attacker_1 attacker_2 attacker_3 attacker_4 defender_1 defender_2  \\\n",
       "0                Robb Stark  Lannister        NaN        NaN        NaN      Tully        NaN   \n",
       "1                Robb Stark  Lannister        NaN        NaN        NaN  Baratheon        NaN   \n",
       "2                Robb Stark  Lannister        NaN        NaN        NaN      Tully        NaN   \n",
       "3  Joffrey/Tommen Baratheon      Stark        NaN        NaN        NaN  Lannister        NaN   \n",
       "4  Joffrey/Tommen Baratheon      Stark      Tully        NaN        NaN  Lannister        NaN   \n",
       "\n",
       "   defender_3  defender_4 attacker_outcome     battle_type  major_death  major_capture  \\\n",
       "0         NaN         NaN              win  pitched battle          1.0            0.0   \n",
       "1         NaN         NaN              win          ambush          1.0            0.0   \n",
       "2         NaN         NaN              win  pitched battle          0.0            1.0   \n",
       "3         NaN         NaN             loss  pitched battle          1.0            1.0   \n",
       "4         NaN         NaN              win          ambush          1.0            1.0   \n",
       "\n",
       "   attacker_size  defender_size  \\\n",
       "0        15000.0         4000.0   \n",
       "1            NaN          120.0   \n",
       "2        15000.0        10000.0   \n",
       "3        18000.0        20000.0   \n",
       "4         1875.0         6000.0   \n",
       "\n",
       "                                                              attacker_commander  \\\n",
       "0                                                                Jaime Lannister   \n",
       "1                                                                 Gregor Clegane   \n",
       "2                                                   Jaime Lannister, Andros Brax   \n",
       "3  Roose Bolton, Wylis Manderly, Medger Cerwyn, Harrion Karstark, Halys Hornwood   \n",
       "4                                                      Robb Stark, Brynden Tully   \n",
       "\n",
       "                                                 defender_commander  summer         location  \\\n",
       "0                                              Clement Piper, Vance     1.0     Golden Tooth   \n",
       "1                                                  Beric Dondarrion     1.0    Mummer's Ford   \n",
       "2                                     Edmure Tully, Tytos Blackwood     1.0         Riverrun   \n",
       "3  Tywin Lannister, Gregor Clegane, Kevan Lannister, Addam Marbrand     1.0       Green Fork   \n",
       "4                                                   Jaime Lannister     1.0  Whispering Wood   \n",
       "\n",
       "            region note  \n",
       "0  The Westerlands  NaN  \n",
       "1   The Riverlands  NaN  \n",
       "2   The Riverlands  NaN  \n",
       "3   The Riverlands  NaN  \n",
       "4   The Riverlands  NaN  "
      ]
     },
     "execution_count": 26,
     "metadata": {},
     "output_type": "execute_result"
    }
   ],
   "source": [
    "data = pd.read_csv(\"C:/Users/conno_52qz545/CS3220 AI/cs3220_2025f/data/game-of-thrones-battles.csv\")\n",
    "data.head()\n"
   ]
  },
  {
   "cell_type": "code",
   "execution_count": 27,
   "id": "57ff373f",
   "metadata": {},
   "outputs": [
    {
     "name": "stdout",
     "output_type": "stream",
     "text": [
      "<class 'pandas.core.frame.DataFrame'>\n",
      "RangeIndex: 38 entries, 0 to 37\n",
      "Data columns (total 25 columns):\n",
      " #   Column              Non-Null Count  Dtype  \n",
      "---  ------              --------------  -----  \n",
      " 0   name                38 non-null     object \n",
      " 1   year                38 non-null     int64  \n",
      " 2   battle_number       38 non-null     int64  \n",
      " 3   attacker_king       36 non-null     object \n",
      " 4   defender_king       35 non-null     object \n",
      " 5   attacker_1          38 non-null     object \n",
      " 6   attacker_2          10 non-null     object \n",
      " 7   attacker_3          3 non-null      object \n",
      " 8   attacker_4          2 non-null      object \n",
      " 9   defender_1          37 non-null     object \n",
      " 10  defender_2          2 non-null      object \n",
      " 11  defender_3          0 non-null      float64\n",
      " 12  defender_4          0 non-null      float64\n",
      " 13  attacker_outcome    37 non-null     object \n",
      " 14  battle_type         37 non-null     object \n",
      " 15  major_death         37 non-null     float64\n",
      " 16  major_capture       37 non-null     float64\n",
      " 17  attacker_size       24 non-null     float64\n",
      " 18  defender_size       19 non-null     float64\n",
      " 19  attacker_commander  37 non-null     object \n",
      " 20  defender_commander  28 non-null     object \n",
      " 21  summer              37 non-null     float64\n",
      " 22  location            37 non-null     object \n",
      " 23  region              38 non-null     object \n",
      " 24  note                5 non-null      object \n",
      "dtypes: float64(7), int64(2), object(16)\n",
      "memory usage: 7.6+ KB\n"
     ]
    }
   ],
   "source": [
    "data.info()"
   ]
  },
  {
   "cell_type": "code",
   "execution_count": 28,
   "id": "65cff9fa",
   "metadata": {},
   "outputs": [
    {
     "data": {
      "text/html": [
       "<div>\n",
       "<style scoped>\n",
       "    .dataframe tbody tr th:only-of-type {\n",
       "        vertical-align: middle;\n",
       "    }\n",
       "\n",
       "    .dataframe tbody tr th {\n",
       "        vertical-align: top;\n",
       "    }\n",
       "\n",
       "    .dataframe thead th {\n",
       "        text-align: right;\n",
       "    }\n",
       "</style>\n",
       "<table border=\"1\" class=\"dataframe\">\n",
       "  <thead>\n",
       "    <tr style=\"text-align: right;\">\n",
       "      <th></th>\n",
       "      <th>name</th>\n",
       "      <th>attacker_king</th>\n",
       "      <th>defender_king</th>\n",
       "      <th>attacker_size</th>\n",
       "      <th>defender_size</th>\n",
       "    </tr>\n",
       "  </thead>\n",
       "  <tbody>\n",
       "    <tr>\n",
       "      <th>0</th>\n",
       "      <td>Battle of the Golden Tooth</td>\n",
       "      <td>Joffrey/Tommen Baratheon</td>\n",
       "      <td>Robb Stark</td>\n",
       "      <td>15000.0</td>\n",
       "      <td>4000.0</td>\n",
       "    </tr>\n",
       "    <tr>\n",
       "      <th>1</th>\n",
       "      <td>Battle at the Mummer's Ford</td>\n",
       "      <td>Joffrey/Tommen Baratheon</td>\n",
       "      <td>Robb Stark</td>\n",
       "      <td>NaN</td>\n",
       "      <td>120.0</td>\n",
       "    </tr>\n",
       "    <tr>\n",
       "      <th>2</th>\n",
       "      <td>Battle of Riverrun</td>\n",
       "      <td>Joffrey/Tommen Baratheon</td>\n",
       "      <td>Robb Stark</td>\n",
       "      <td>15000.0</td>\n",
       "      <td>10000.0</td>\n",
       "    </tr>\n",
       "    <tr>\n",
       "      <th>3</th>\n",
       "      <td>Battle of the Green Fork</td>\n",
       "      <td>Robb Stark</td>\n",
       "      <td>Joffrey/Tommen Baratheon</td>\n",
       "      <td>18000.0</td>\n",
       "      <td>20000.0</td>\n",
       "    </tr>\n",
       "    <tr>\n",
       "      <th>4</th>\n",
       "      <td>Battle of the Whispering Wood</td>\n",
       "      <td>Robb Stark</td>\n",
       "      <td>Joffrey/Tommen Baratheon</td>\n",
       "      <td>1875.0</td>\n",
       "      <td>6000.0</td>\n",
       "    </tr>\n",
       "  </tbody>\n",
       "</table>\n",
       "</div>"
      ],
      "text/plain": [
       "                            name             attacker_king             defender_king  \\\n",
       "0     Battle of the Golden Tooth  Joffrey/Tommen Baratheon                Robb Stark   \n",
       "1    Battle at the Mummer's Ford  Joffrey/Tommen Baratheon                Robb Stark   \n",
       "2             Battle of Riverrun  Joffrey/Tommen Baratheon                Robb Stark   \n",
       "3       Battle of the Green Fork                Robb Stark  Joffrey/Tommen Baratheon   \n",
       "4  Battle of the Whispering Wood                Robb Stark  Joffrey/Tommen Baratheon   \n",
       "\n",
       "   attacker_size  defender_size  \n",
       "0        15000.0         4000.0  \n",
       "1            NaN          120.0  \n",
       "2        15000.0        10000.0  \n",
       "3        18000.0        20000.0  \n",
       "4         1875.0         6000.0  "
      ]
     },
     "execution_count": 28,
     "metadata": {},
     "output_type": "execute_result"
    }
   ],
   "source": [
    "battles_df=data.loc[:,['name','attacker_king','defender_king','attacker_size','defender_size']]\n",
    "battles_df.head()"
   ]
  },
  {
   "cell_type": "code",
   "execution_count": 29,
   "id": "1cc5e278",
   "metadata": {},
   "outputs": [
    {
     "name": "stdout",
     "output_type": "stream",
     "text": [
      "<class 'pandas.core.frame.DataFrame'>\n",
      "RangeIndex: 38 entries, 0 to 37\n",
      "Data columns (total 5 columns):\n",
      " #   Column         Non-Null Count  Dtype  \n",
      "---  ------         --------------  -----  \n",
      " 0   name           38 non-null     object \n",
      " 1   attacker_king  36 non-null     object \n",
      " 2   defender_king  35 non-null     object \n",
      " 3   attacker_size  24 non-null     float64\n",
      " 4   defender_size  19 non-null     float64\n",
      "dtypes: float64(2), object(3)\n",
      "memory usage: 1.6+ KB\n"
     ]
    }
   ],
   "source": [
    "battles_df.info()"
   ]
  },
  {
   "cell_type": "code",
   "execution_count": 30,
   "id": "914b2f5f",
   "metadata": {},
   "outputs": [
    {
     "name": "stdout",
     "output_type": "stream",
     "text": [
      "<class 'pandas.core.frame.DataFrame'>\n",
      "Index: 16 entries, 0 to 37\n",
      "Data columns (total 5 columns):\n",
      " #   Column         Non-Null Count  Dtype  \n",
      "---  ------         --------------  -----  \n",
      " 0   name           16 non-null     object \n",
      " 1   attacker_king  16 non-null     object \n",
      " 2   defender_king  16 non-null     object \n",
      " 3   attacker_size  16 non-null     float64\n",
      " 4   defender_size  16 non-null     float64\n",
      "dtypes: float64(2), object(3)\n",
      "memory usage: 768.0+ bytes\n"
     ]
    }
   ],
   "source": [
    "battles_df_cleaned=battles_df.dropna()\n",
    "battles_df_cleaned.info()"
   ]
  },
  {
   "cell_type": "code",
   "execution_count": 31,
   "id": "227de151",
   "metadata": {},
   "outputs": [
    {
     "name": "stdout",
     "output_type": "stream",
     "text": [
      "Attacking kings: ['Joffrey/Tommen Baratheon' 'Robb Stark' 'Stannis Baratheon']\n"
     ]
    }
   ],
   "source": [
    "print(f\"Attacking kings: {battles_df_cleaned.attacker_king.unique()}\")"
   ]
  },
  {
   "cell_type": "code",
   "execution_count": 32,
   "id": "ae4435a3",
   "metadata": {},
   "outputs": [
    {
     "name": "stdout",
     "output_type": "stream",
     "text": [
      "Defending kings: ['Robb Stark' 'Joffrey/Tommen Baratheon' 'Balon/Euron Greyjoy'\n",
      " 'Renly Baratheon' 'Mance Rayder']\n"
     ]
    }
   ],
   "source": [
    "print(f\"Defending kings: {battles_df_cleaned.defender_king.unique()}\")"
   ]
  },
  {
   "cell_type": "code",
   "execution_count": 33,
   "id": "291216a2",
   "metadata": {},
   "outputs": [],
   "source": [
    "net5kings = Network(heading=\"Task1. Building Interactive Network of battles of War of 5\",\n",
    "                    bgcolor = \"#242020\",\n",
    "                    font_color = \"white\",\n",
    "                    height = \"1000px\",\n",
    "                    width = \"100%\",\n",
    "                    directed = True, # we have directed graph\n",
    "                    notebook = True,\n",
    "                    cdn_resources = \"remote\"\n",
    ")"
   ]
  },
  {
   "cell_type": "code",
   "execution_count": 34,
   "id": "03551eb5",
   "metadata": {},
   "outputs": [
    {
     "data": {
      "text/plain": [
       "numpy.ndarray"
      ]
     },
     "execution_count": 34,
     "metadata": {},
     "output_type": "execute_result"
    }
   ],
   "source": [
    "type(data['attacker_king'].values)"
   ]
  },
  {
   "cell_type": "code",
   "execution_count": 35,
   "id": "4861c31f",
   "metadata": {},
   "outputs": [
    {
     "data": {
      "text/plain": [
       "array(['Balon/Euron Greyjoy', 'Joffrey/Tommen Baratheon', 'Mance Rayder',\n",
       "       'Renly Baratheon', 'Robb Stark', 'Stannis Baratheon'], dtype=object)"
      ]
     },
     "execution_count": 35,
     "metadata": {},
     "output_type": "execute_result"
    }
   ],
   "source": [
    "Kings_list=np.unique(np.concatenate((battles_df_cleaned['attacker_king'].values,battles_df_cleaned['defender_king'].values),0))\n",
    "Kings_list"
   ]
  },
  {
   "cell_type": "code",
   "execution_count": 36,
   "id": "dde8844c",
   "metadata": {},
   "outputs": [
    {
     "data": {
      "text/plain": [
       "[{'color': '#97c2fc',\n",
       "  'id': 'Balon/Euron Greyjoy',\n",
       "  'label': 'Balon/Euron Greyjoy',\n",
       "  'shape': 'dot',\n",
       "  'font': {'color': 'white'}},\n",
       " {'color': '#97c2fc',\n",
       "  'id': 'Joffrey/Tommen Baratheon',\n",
       "  'label': 'Joffrey/Tommen Baratheon',\n",
       "  'shape': 'dot',\n",
       "  'font': {'color': 'white'}},\n",
       " {'color': '#97c2fc',\n",
       "  'id': 'Mance Rayder',\n",
       "  'label': 'Mance Rayder',\n",
       "  'shape': 'dot',\n",
       "  'font': {'color': 'white'}},\n",
       " {'color': '#97c2fc',\n",
       "  'id': 'Renly Baratheon',\n",
       "  'label': 'Renly Baratheon',\n",
       "  'shape': 'dot',\n",
       "  'font': {'color': 'white'}},\n",
       " {'color': '#97c2fc',\n",
       "  'id': 'Robb Stark',\n",
       "  'label': 'Robb Stark',\n",
       "  'shape': 'dot',\n",
       "  'font': {'color': 'white'}},\n",
       " {'color': '#97c2fc',\n",
       "  'id': 'Stannis Baratheon',\n",
       "  'label': 'Stannis Baratheon',\n",
       "  'shape': 'dot',\n",
       "  'font': {'color': 'white'}}]"
      ]
     },
     "execution_count": 36,
     "metadata": {},
     "output_type": "execute_result"
    }
   ],
   "source": [
    "net5kings.add_nodes(Kings_list)\n",
    "net5kings.nodes"
   ]
  },
  {
   "cell_type": "code",
   "execution_count": 37,
   "id": "88873359",
   "metadata": {},
   "outputs": [
    {
     "data": {
      "text/plain": [
       "[['Joffrey/Tommen Baratheon', 'Robb Stark'],\n",
       " ['Joffrey/Tommen Baratheon', 'Robb Stark'],\n",
       " ['Robb Stark', 'Joffrey/Tommen Baratheon'],\n",
       " ['Robb Stark', 'Joffrey/Tommen Baratheon'],\n",
       " ['Robb Stark', 'Joffrey/Tommen Baratheon'],\n",
       " ['Robb Stark', 'Balon/Euron Greyjoy'],\n",
       " ['Joffrey/Tommen Baratheon', 'Robb Stark'],\n",
       " ['Robb Stark', 'Joffrey/Tommen Baratheon'],\n",
       " ['Stannis Baratheon', 'Renly Baratheon'],\n",
       " ['Joffrey/Tommen Baratheon', 'Robb Stark'],\n",
       " ['Robb Stark', 'Joffrey/Tommen Baratheon'],\n",
       " ['Stannis Baratheon', 'Joffrey/Tommen Baratheon'],\n",
       " ['Joffrey/Tommen Baratheon', 'Robb Stark'],\n",
       " ['Stannis Baratheon', 'Mance Rayder'],\n",
       " ['Stannis Baratheon', 'Balon/Euron Greyjoy'],\n",
       " ['Stannis Baratheon', 'Joffrey/Tommen Baratheon']]"
      ]
     },
     "execution_count": 37,
     "metadata": {},
     "output_type": "execute_result"
    }
   ],
   "source": [
    "edges = battles_df_cleaned.loc[:,[\"attacker_king\", \"defender_king\"]].values.tolist()\n",
    "edges[:]"
   ]
  },
  {
   "cell_type": "code",
   "execution_count": 38,
   "id": "36ca4d0d",
   "metadata": {},
   "outputs": [
    {
     "data": {
      "text/plain": [
       "[['Joffrey/Tommen Baratheon', 'Robb Stark'],\n",
       " ['Robb Stark', 'Joffrey/Tommen Baratheon'],\n",
       " ['Robb Stark', 'Balon/Euron Greyjoy'],\n",
       " ['Stannis Baratheon', 'Renly Baratheon'],\n",
       " ['Stannis Baratheon', 'Joffrey/Tommen Baratheon'],\n",
       " ['Stannis Baratheon', 'Mance Rayder'],\n",
       " ['Stannis Baratheon', 'Balon/Euron Greyjoy']]"
      ]
     },
     "execution_count": 38,
     "metadata": {},
     "output_type": "execute_result"
    }
   ],
   "source": [
    "edges_unique = []\n",
    "for item in edges:\n",
    "    if item not in edges_unique:\n",
    "        edges_unique.append(item)\n",
    "edges_unique"
   ]
  },
  {
   "cell_type": "code",
   "execution_count": 39,
   "id": "0ae7bd56",
   "metadata": {},
   "outputs": [
    {
     "data": {
      "text/plain": [
       "attacker_king             defender_king           \n",
       "Joffrey/Tommen Baratheon  Robb Stark                  5\n",
       "Robb Stark                Balon/Euron Greyjoy         1\n",
       "                          Joffrey/Tommen Baratheon    5\n",
       "Stannis Baratheon         Balon/Euron Greyjoy         1\n",
       "                          Joffrey/Tommen Baratheon    2\n",
       "                          Mance Rayder                1\n",
       "                          Renly Baratheon             1\n",
       "dtype: int64"
      ]
     },
     "execution_count": 39,
     "metadata": {},
     "output_type": "execute_result"
    }
   ],
   "source": [
    "edge_weight = battles_df_cleaned.groupby(['attacker_king','defender_king']).size()\n",
    "edge_weight"
   ]
  },
  {
   "cell_type": "code",
   "execution_count": 40,
   "id": "7f93dbc4",
   "metadata": {},
   "outputs": [
    {
     "data": {
      "text/plain": [
       "attacker_king             defender_king           \n",
       "Joffrey/Tommen Baratheon  Robb Stark                            Battle of the Golden Tooth, Battle of Riverrun, Sack of Winterfell, Battle of the Fords, The Red Wedding\n",
       "Robb Stark                Balon/Euron Greyjoy                                                                                                 Battle of Torrhen's Square\n",
       "                          Joffrey/Tommen Baratheon    Battle of the Green Fork, Battle of the Whispering Wood, Battle of the Camps, Battle of Oxcross, Sack of Harrenhal\n",
       "Stannis Baratheon         Balon/Euron Greyjoy                                                                                                 Retaking of Deepwood Motte\n",
       "                          Joffrey/Tommen Baratheon                                                                         Battle of the Blackwater, Siege of Winterfell\n",
       "                          Mance Rayder                                                                                                            Battle of Castle Black\n",
       "                          Renly Baratheon                                                                                                           Siege of Storm's End\n",
       "Name: name, dtype: object"
      ]
     },
     "execution_count": 40,
     "metadata": {},
     "output_type": "execute_result"
    }
   ],
   "source": [
    "Titles = battles_df_cleaned.groupby([\"attacker_king\",\"defender_king\"])['name'].agg(', '.join)\n",
    "Titles"
   ]
  },
  {
   "cell_type": "code",
   "execution_count": 41,
   "id": "662584e1",
   "metadata": {},
   "outputs": [
    {
     "name": "stdout",
     "output_type": "stream",
     "text": [
      "0    Attacking King: Joffrey/Tommen Baratheon  Defending King: Robb Stark N of Battles: 5 Battle Names: Battle of the Golden Tooth, Batt...\n",
      "1                  Attacking King: Robb Stark  Defending King: Balon/Euron Greyjoy N of Battles: 1 Battle Names: Battle of Torrhen's Square\n",
      "2    Attacking King: Robb Stark  Defending King: Joffrey/Tommen Baratheon N of Battles: 5 Battle Names: Battle of the Green Fork, Battle...\n",
      "3           Attacking King: Stannis Baratheon  Defending King: Balon/Euron Greyjoy N of Battles: 1 Battle Names: Retaking of Deepwood Motte\n",
      "4    Attacking King: Stannis Baratheon  Defending King: Joffrey/Tommen Baratheon N of Battles: 2 Battle Names: Battle of the Blackwater,...\n",
      "5                      Attacking King: Stannis Baratheon  Defending King: Mance Rayder N of Battles: 1 Battle Names: Battle of Castle Black\n",
      "6                     Attacking King: Stannis Baratheon  Defending King: Renly Baratheon N of Battles: 1 Battle Names: Siege of Storm's End\n",
      "dtype: object\n",
      "edges_weight:  [5, 1, 5, 1, 2, 1, 1]\n"
     ]
    }
   ],
   "source": [
    "edge_weight_df = edge_weight.reset_index(name = 'count')\n",
    "Titles_df = Titles.reset_index()\n",
    "Data_df = pd.merge(edge_weight_df, Titles_df, on=['attacker_king', 'defender_king'], how='inner')\n",
    "\n",
    "def format_row(row):\n",
    "    return f\"Attacking King: {row['attacker_king']}  Defending King: {row['defender_king']} N of Battles: {row['count']} Battle Names: {row['name']}\"\n",
    "\n",
    "attacks = Data_df.apply(format_row, axis=1)\n",
    "print(attacks)\n",
    "print(\"edges_weight: \", edge_weight_df['count'].tolist())"
   ]
  },
  {
   "cell_type": "code",
   "execution_count": null,
   "id": "cc0fcddc",
   "metadata": {},
   "outputs": [
    {
     "data": {
      "text/plain": [
       "[{'Value': 5,\n",
       "  'Title': 'Battle of the Golden Tooth, Battle of Riverrun, Sack of Winterfell, Battle of the Fords, The Red Wedding',\n",
       "  'from': 'Joffrey/Tommen Baratheon',\n",
       "  'to': 'Robb Stark',\n",
       "  'arrows': 'to'},\n",
       " {'Value': 1,\n",
       "  'Title': \"Battle of Torrhen's Square\",\n",
       "  'from': 'Robb Stark',\n",
       "  'to': 'Balon/Euron Greyjoy',\n",
       "  'arrows': 'to'},\n",
       " {'Value': 5,\n",
       "  'Title': 'Battle of the Green Fork, Battle of the Whispering Wood, Battle of the Camps, Battle of Oxcross, Sack of Harrenhal',\n",
       "  'from': 'Robb Stark',\n",
       "  'to': 'Joffrey/Tommen Baratheon',\n",
       "  'arrows': 'to'},\n",
       " {'Value': 1,\n",
       "  'Title': 'Retaking of Deepwood Motte',\n",
       "  'from': 'Stannis Baratheon',\n",
       "  'to': 'Balon/Euron Greyjoy',\n",
       "  'arrows': 'to'},\n",
       " {'Value': 2,\n",
       "  'Title': 'Battle of the Blackwater, Siege of Winterfell',\n",
       "  'from': 'Stannis Baratheon',\n",
       "  'to': 'Joffrey/Tommen Baratheon',\n",
       "  'arrows': 'to'},\n",
       " {'Value': 1,\n",
       "  'Title': 'Battle of Castle Black',\n",
       "  'from': 'Stannis Baratheon',\n",
       "  'to': 'Mance Rayder',\n",
       "  'arrows': 'to'},\n",
       " {'Value': 1,\n",
       "  'Title': \"Siege of Storm's End\",\n",
       "  'from': 'Stannis Baratheon',\n",
       "  'to': 'Renly Baratheon',\n",
       "  'arrows': 'to'}]"
      ]
     },
     "execution_count": 42,
     "metadata": {},
     "output_type": "execute_result"
    }
   ],
   "source": [
    "for index, row in Data_df.iterrows():\n",
    "    net5kings.add_edge(row['attacker_king'], row['defender_king'], value=row['count'], title=row['name'])\n",
    "\n",
    "def format_row(row):\n",
    "    return f\"The edge from '{row['attacker_king']}' to '{row['defender_king']}' with weight '{row['count']}' Title: '{row['name']}\"\n",
    "\n",
    "net5kings.edges\n"
   ]
  },
  {
   "cell_type": "code",
   "execution_count": 43,
   "id": "25efc4cd",
   "metadata": {},
   "outputs": [],
   "source": [
    "#Ignore this line of code"
   ]
  },
  {
   "cell_type": "code",
   "execution_count": 44,
   "id": "0c98d93b",
   "metadata": {},
   "outputs": [
    {
     "data": {
      "text/plain": [
       "{'Balon/Euron Greyjoy': set(),\n",
       " 'Joffrey/Tommen Baratheon': {'Robb Stark'},\n",
       " 'Mance Rayder': set(),\n",
       " 'Renly Baratheon': set(),\n",
       " 'Robb Stark': {'Balon/Euron Greyjoy', 'Joffrey/Tommen Baratheon'},\n",
       " 'Stannis Baratheon': {'Balon/Euron Greyjoy',\n",
       "  'Joffrey/Tommen Baratheon',\n",
       "  'Mance Rayder',\n",
       "  'Renly Baratheon'}}"
      ]
     },
     "execution_count": 44,
     "metadata": {},
     "output_type": "execute_result"
    }
   ],
   "source": [
    "enemies_map = net5kings.get_adj_list()\n",
    "\n",
    "for node in net5kings.nodes:\n",
    "    node[\"value\"] = len(enemies_map[node[\"id\"]])+1\n",
    "\n",
    "enemies_map"
   ]
  },
  {
   "cell_type": "code",
   "execution_count": 45,
   "id": "eab50ea2",
   "metadata": {},
   "outputs": [],
   "source": [
    "nodeColors={\n",
    "    0:\"blue\",\n",
    "    1:\"green\",\n",
    "    2:\"orange\",\n",
    "    3:\"purple\",\n",
    "    4:\"gold\",\n",
    "    5:\"red\"\n",
    "}"
   ]
  },
  {
   "cell_type": "code",
   "execution_count": 46,
   "id": "b5485a9d",
   "metadata": {},
   "outputs": [
    {
     "data": {
      "text/plain": [
       "[{'color': 'green',\n",
       "  'id': 'Balon/Euron Greyjoy',\n",
       "  'label': 'Balon/Euron Greyjoy',\n",
       "  'shape': 'dot',\n",
       "  'font': {'color': 'white'},\n",
       "  'value': 1},\n",
       " {'color': 'orange',\n",
       "  'id': 'Joffrey/Tommen Baratheon',\n",
       "  'label': 'Joffrey/Tommen Baratheon',\n",
       "  'shape': 'dot',\n",
       "  'font': {'color': 'white'},\n",
       "  'value': 2},\n",
       " {'color': 'green',\n",
       "  'id': 'Mance Rayder',\n",
       "  'label': 'Mance Rayder',\n",
       "  'shape': 'dot',\n",
       "  'font': {'color': 'white'},\n",
       "  'value': 1},\n",
       " {'color': 'green',\n",
       "  'id': 'Renly Baratheon',\n",
       "  'label': 'Renly Baratheon',\n",
       "  'shape': 'dot',\n",
       "  'font': {'color': 'white'},\n",
       "  'value': 1},\n",
       " {'color': 'purple',\n",
       "  'id': 'Robb Stark',\n",
       "  'label': 'Robb Stark',\n",
       "  'shape': 'dot',\n",
       "  'font': {'color': 'white'},\n",
       "  'value': 3},\n",
       " {'color': 'red',\n",
       "  'id': 'Stannis Baratheon',\n",
       "  'label': 'Stannis Baratheon',\n",
       "  'shape': 'dot',\n",
       "  'font': {'color': 'white'},\n",
       "  'value': 5}]"
      ]
     },
     "execution_count": 46,
     "metadata": {},
     "output_type": "execute_result"
    }
   ],
   "source": [
    "for node in net5kings.nodes:\n",
    "    node[\"color\"] = nodeColors[node[\"value\"]]\n",
    "\n",
    "net5kings.nodes"
   ]
  },
  {
   "cell_type": "code",
   "execution_count": 47,
   "id": "ee6de8f8",
   "metadata": {},
   "outputs": [
    {
     "name": "stdout",
     "output_type": "stream",
     "text": [
      "lab1-task1-net5kings.html\n"
     ]
    }
   ],
   "source": [
    "net5kings.show(\"lab1-task1-net5kings.html\", notebook = False)"
   ]
  }
 ],
 "metadata": {
  "kernelspec": {
   "display_name": "Python 3",
   "language": "python",
   "name": "python3"
  },
  "language_info": {
   "codemirror_mode": {
    "name": "ipython",
    "version": 3
   },
   "file_extension": ".py",
   "mimetype": "text/x-python",
   "name": "python",
   "nbconvert_exporter": "python",
   "pygments_lexer": "ipython3",
   "version": "3.13.7"
  }
 },
 "nbformat": 4,
 "nbformat_minor": 5
}
